{
 "cells": [
  {
   "cell_type": "code",
   "execution_count": 1,
   "metadata": {},
   "outputs": [],
   "source": [
    "import cv2 as cv\n",
    "import pytesseract\n",
    "from typing import OrderedDict\n",
    "from math import ceil\n",
    "import re"
   ]
  },
  {
   "cell_type": "code",
   "execution_count": 2,
   "metadata": {},
   "outputs": [],
   "source": [
    "img = cv.imread('MicrosoftTeams-image (4).png')"
   ]
  },
  {
   "cell_type": "code",
   "execution_count": 3,
   "metadata": {},
   "outputs": [
    {
     "name": "stdout",
     "output_type": "stream",
     "text": [
      "['', '', '', '', 'Tax', 'Invoice/Bill', 'of', 'Supply/Cash', 'Memo', '', 'amazon', '(Original', 'for', 'Recipient)', '', '', '', 'Diptly', 'Signed', 'by', '0S', 'Amazon', '', 'tre', '1003209', '05', 'PM', 'UTE', '', 'Favor', 'ice', '', 'Sold', 'By:', 'Billing', 'Address:', '', '‘Amazon', 'John', 'Doe', '', '36,', 'Green', 'Downtown,', 'Golden', 'Road,', 'FL', '36,', 'Green', 'Downtown,', 'Golden', 'Road,', 'FL', '', 'PAN', 'No:', 'XCV967729L', 'Shipping', 'Address:', '', 'John', 'Doe', '', '', '', 'GST', 'Registration', 'No:', '|X9879123TC', '', '36,', 'Green', 'Downtown,', 'Golden', 'Road,', 'FL', '', '', '', 'Invoice', 'Number:', 'FLR978298', '', 'Invoice', 'Details:', 'FL9898DKEFD', '', 'Invoice', 'Date:', '19.06.2019', '', '', '', '4', 'Healthsense', 'Forehead', 'Thermometer', 'with', 'fastreading', '—g45.69', '4', '§43.5', '9.00%', 'VAT', '$3.02', '$47', '', '', '', 'Order', 'Number:', 'A-8934792734', '', 'Order', 'Date:', '19.06.2019', '', '', '', '(white)', '889978312', '', 'Total', '|', '$3.92', '$47.42', '', 'Amount', 'in', 'Words:', '', 'Forty', 'Seven', '', 'For', 'Amazon:', '', '', '', 'Authorized', 'Signatory']\n"
     ]
    }
   ],
   "source": [
    "image_data = pytesseract.image_to_data(img,  output_type=pytesseract.Output.DICT)\n",
    "print(image_data['text'])\n"
   ]
  },
  {
   "cell_type": "code",
   "execution_count": 4,
   "metadata": {},
   "outputs": [],
   "source": [
    "data_dict = OrderedDict({\n",
    "    'PAN':{'value':'','label': 'PAN','Pattern':'[A-Z]{3}\\d{6}[A-Z]','zoning_type':'in_line'},\n",
    "    'Billing':{'value':'','label': 'Billing','Pattern':'(.*)Shipping\\s?Address','zoning_type':'left_bottom_large'},\n",
    "    'Order_date':{'value':'','label': 'Date','Pattern':'\\d{1,2}[\\.-//]\\d{1,2}[\\.-//]\\d{2,4}', 'zoning_type':'in_line'},\n",
    "    'Gst':{'value':'','label': 'GST','Pattern':'\\.?[A-Za-z]{1,2}\\d{7}[A-Za-z]{2}','zoning_type':'in_line'},\n",
    "    'Invoice Number':{'value':'','label': 'Invoice','Pattern':'[A-Za-z]{3}\\d{6}','zoning_type':'in_line'},\n",
    "    'Item':{'value':'','label': 'Description','Pattern':'(\\w*)(Unit\\s?Price|\\$)','zoning_type':'left_bottom_right_large'},\n",
    "    'Unit ':{'value':'','label': 'Unit', 'Pattern':'\\$\\d+\\.?\\d+', 'zoning_type':'bottom_large'},\n",
    "    'Total':{'value':'','label':'Total', 'Pattern':'\\$?\\d{1,4}?\\.?\\d{1,4}?(\\$\\d+\\.?\\d+)','zoning_type':'in_line'}\n",
    "})\n"
   ]
  },
  {
   "cell_type": "code",
   "execution_count": 5,
   "metadata": {},
   "outputs": [],
   "source": [
    "for key in data_dict.keys():\n",
    "    to_find = data_dict[key]['label'].lower()\n",
    "\n",
    "    for i in range(len(image_data['text'])):\n",
    "        if to_find in image_data['text'][i].lower():\n",
    "            x,y,w,h = image_data['left'][i], image_data['top'][i], image_data['width'][i], image_data['height'][i]\n",
    "            if data_dict[key]['zoning_type'] == \"in_line\":\n",
    "                zoning_area = (x-10,y-10,w+x+430,h+y+10) \n",
    "            elif data_dict[key]['zoning_type'] == \"left_bottom_right\":\n",
    "                zoning_area = (x-190,y-10,w+x+10,h+y+200) \n",
    "            elif data_dict[key]['zoning_type'] == \"bottom_large\":\n",
    "                zoning_area = (x-w,y-10,w+x+w,h+y+50) \n",
    "            else:\n",
    "                zoning_area = (x-150,y+20,w+x+430,h+y+100)\n",
    "            temp_string = \"\"\n",
    "            if data_dict[key]['value'] == \"\":\n",
    "                for j in range(len(image_data['text'])):\n",
    "                    x,y,w,h = image_data['left'][j], image_data['top'][j], image_data['width'][j], image_data['height'][j]\n",
    "                    \n",
    "                    if x>=zoning_area[0] and y>=zoning_area[1] and x+w <= zoning_area[2] and y+h <= zoning_area[3]:\n",
    "                        temp_string += image_data['text'][j]+' '\n",
    "                \n",
    "                if re.findall(data_dict[key]['Pattern'], temp_string):\n",
    "\n",
    "                    data_dict[key]['value'] = re.findall(data_dict[key]['Pattern'], temp_string)[0]\n",
    "                    break\n",
    "        "
   ]
  },
  {
   "cell_type": "code",
   "execution_count": 6,
   "metadata": {},
   "outputs": [],
   "source": [
    "import json"
   ]
  },
  {
   "cell_type": "code",
   "execution_count": 7,
   "metadata": {},
   "outputs": [],
   "source": [
    "f = open(f\"{data_dict['Invoice Number']['value']}.json\", 'w')\n",
    "final_op = {key:data_dict[key]['value'] for key in data_dict.keys()}\n",
    "# print(\"-\",final_op)\n",
    "json.dump(final_op, f)\n",
    "\n",
    "\n",
    "f.close()\n"
   ]
  },
  {
   "cell_type": "code",
   "execution_count": null,
   "metadata": {},
   "outputs": [],
   "source": []
  }
 ],
 "metadata": {
  "kernelspec": {
   "display_name": "Python 3",
   "language": "python",
   "name": "python3"
  },
  "language_info": {
   "codemirror_mode": {
    "name": "ipython",
    "version": 3
   },
   "file_extension": ".py",
   "mimetype": "text/x-python",
   "name": "python",
   "nbconvert_exporter": "python",
   "pygments_lexer": "ipython3",
   "version": "3.8.10"
  }
 },
 "nbformat": 4,
 "nbformat_minor": 4
}
