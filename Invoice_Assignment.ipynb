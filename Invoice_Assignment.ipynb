{
 "cells": [
  {
   "cell_type": "code",
   "execution_count": 5,
   "metadata": {},
   "outputs": [],
   "source": [
    "import cv2 as cv\n",
    "import pytesseract\n",
    "from typing import OrderedDict\n",
    "import re"
   ]
  },
  {
   "cell_type": "code",
   "execution_count": 6,
   "metadata": {},
   "outputs": [],
   "source": [
    "img = cv.imread('MicrosoftTeams-image (2).png',0)\n",
    "# print(img)"
   ]
  },
  {
   "cell_type": "code",
   "execution_count": 7,
   "metadata": {},
   "outputs": [],
   "source": [
    "image_data = pytesseract.image_to_string(img)"
   ]
  },
  {
   "cell_type": "code",
   "execution_count": 8,
   "metadata": {},
   "outputs": [
    {
     "name": "stdout",
     "output_type": "stream",
     "text": [
      "['level', 'page_num', 'block_num', 'par_num', 'line_num', 'word_num', 'left', 'top', 'width', 'height', 'conf', 'text']\n"
     ]
    }
   ],
   "source": [
    "image_data = pytesseract.image_to_data(img)\n",
    "image_data_dict= pytesseract.image_to_data(img, output_type = pytesseract.Output.DICT)\n",
    "keys = list(image_data_dict.keys())\n",
    "print(keys)\n",
    "# print(image_data)\n",
    "# print(image_data['text'])\n",
    "\n",
    "# print(image_data[\"line_num\"])\n",
    "key_vals = [\"Description\",\"Amount\"]"
   ]
  },
  {
   "cell_type": "code",
   "execution_count": 9,
   "metadata": {},
   "outputs": [
    {
     "name": "stdout",
     "output_type": "stream",
     "text": [
      " Invoice  (Street address] Company Name 00001  (City, State] [Street address]  (Country] (City, State] Date of Invoice  [Postal] [Country] 12/1/20  [Postal]  Item1 1 $100.00 1% $101.00  Item 2 2 $200.00 1% $404.00  Item 3 3 $100.00 1% $303.00  Item 4 4 $200.00 1% $808.00  Item 5 5 $200.00 1% $1,010.00  Item 6 6 $220.00 1% $1,333.20  Item 7 7 $240.00 1% $1,696.80  Item 8 8 $260.00 1% $2,100.80  Notes:\n"
     ]
    }
   ],
   "source": [
    "text=[]\n",
    "line_num=[]\n",
    "output=[]\n",
    "for i in image_data_dict[\"text\"]:\n",
    "    text.append(i)\n",
    "    \n",
    "for j in image_data_dict[\"line_num\"]:\n",
    "    line_num.append(j)\n",
    "    \n",
    "new_list=zip(line_num,text)\n",
    "for i in new_list:\n",
    "#     print(i)\n",
    "    if i[0]>= 2:\n",
    "        output.append(i[1])\n",
    "        \n",
    "# print(output)\n",
    "new=\" \".join(output)\n",
    "print(new)"
   ]
  },
  {
   "cell_type": "code",
   "execution_count": 14,
   "metadata": {},
   "outputs": [],
   "source": [
    "item= re.findall(r'I\\w+\\s?\\d', new)\n",
    "amount = re.findall(r'%\\s?(\\$\\d.\\d+\\.\\d{2})', new)"
   ]
  },
  {
   "cell_type": "code",
   "execution_count": 15,
   "metadata": {},
   "outputs": [
    {
     "name": "stdout",
     "output_type": "stream",
     "text": [
      "['Item1 1', 'Item 2', 'Item 3', 'Item 4', 'Item 5', 'Item 6', 'Item 7', 'Item 8']\n",
      "['$101.00', '$404.00', '$303.00', '$808.00', '$1,010.00', '$1,333.20', '$1,696.80', '$2,100.80']\n"
     ]
    }
   ],
   "source": [
    "print(item)\n",
    "print(amount)"
   ]
  },
  {
   "cell_type": "code",
   "execution_count": 16,
   "metadata": {},
   "outputs": [],
   "source": [
    "x=zip(item,amount)"
   ]
  },
  {
   "cell_type": "code",
   "execution_count": 17,
   "metadata": {},
   "outputs": [
    {
     "name": "stdout",
     "output_type": "stream",
     "text": [
      "{'Item1 1': '$101.00', 'Item 2': '$404.00', 'Item 3': '$303.00', 'Item 4': '$808.00', 'Item 5': '$1,010.00', 'Item 6': '$1,333.20', 'Item 7': '$1,696.80', 'Item 8': '$2,100.80'}\n"
     ]
    }
   ],
   "source": [
    "print(dict(x))"
   ]
  },
  {
   "cell_type": "code",
   "execution_count": null,
   "metadata": {},
   "outputs": [],
   "source": []
  }
 ],
 "metadata": {
  "kernelspec": {
   "display_name": "Python 3",
   "language": "python",
   "name": "python3"
  },
  "language_info": {
   "codemirror_mode": {
    "name": "ipython",
    "version": 3
   },
   "file_extension": ".py",
   "mimetype": "text/x-python",
   "name": "python",
   "nbconvert_exporter": "python",
   "pygments_lexer": "ipython3",
   "version": "3.8.10"
  }
 },
 "nbformat": 4,
 "nbformat_minor": 4
}
